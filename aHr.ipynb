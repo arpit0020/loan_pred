{
  "nbformat": 4,
  "nbformat_minor": 0,
  "metadata": {
    "colab": {
      "private_outputs": true,
      "provenance": [],
      "authorship_tag": "ABX9TyPx5T8rOAvkIo+lFn8sfbNw",
      "include_colab_link": true
    },
    "kernelspec": {
      "name": "python3",
      "display_name": "Python 3"
    },
    "language_info": {
      "name": "python"
    }
  },
  "cells": [
    {
      "cell_type": "markdown",
      "metadata": {
        "id": "view-in-github",
        "colab_type": "text"
      },
      "source": [
        "<a href=\"https://colab.research.google.com/github/arpit0020/loan_pred/blob/main/aHr.ipynb\" target=\"_parent\"><img src=\"https://colab.research.google.com/assets/colab-badge.svg\" alt=\"Open In Colab\"/></a>"
      ]
    },
    {
      "cell_type": "code",
      "execution_count": null,
      "metadata": {
        "id": "4QVr8ek-cbdf"
      },
      "outputs": [],
      "source": [
        "import pandas as pd\n",
        "import numpy as np\n",
        "import matplotlib.pyplot as plt\n",
        "import warnings\n",
        "import seaborn as sns"
      ]
    },
    {
      "cell_type": "code",
      "source": [
        "warnings.filterwarnings(\"ignore\")"
      ],
      "metadata": {
        "id": "qWcolwoFczyt"
      },
      "execution_count": null,
      "outputs": []
    },
    {
      "cell_type": "code",
      "source": [
        "from google.colab import files\n",
        "uploded = files.upload()"
      ],
      "metadata": {
        "id": "lK-yhC0ocz0o"
      },
      "execution_count": null,
      "outputs": []
    },
    {
      "cell_type": "code",
      "source": [
        "df = pd.read_excel(\"hotel_reviews (2) (1).xlsx\")"
      ],
      "metadata": {
        "id": "xwJeRcokcz5I"
      },
      "execution_count": null,
      "outputs": []
    },
    {
      "cell_type": "code",
      "source": [
        "df.head()"
      ],
      "metadata": {
        "id": "Y3BdkyB2cz68"
      },
      "execution_count": null,
      "outputs": []
    },
    {
      "cell_type": "code",
      "source": [
        "df.info()"
      ],
      "metadata": {
        "id": "AiZBTz3Uc0Bj"
      },
      "execution_count": null,
      "outputs": []
    },
    {
      "cell_type": "code",
      "source": [
        "df.shape"
      ],
      "metadata": {
        "id": "bra5ooPNc0I4"
      },
      "execution_count": null,
      "outputs": []
    },
    {
      "cell_type": "code",
      "source": [
        "df.describe()"
      ],
      "metadata": {
        "id": "nCi8fUMAc0K8"
      },
      "execution_count": null,
      "outputs": []
    },
    {
      "cell_type": "code",
      "source": [
        "df.isnull().sum()"
      ],
      "metadata": {
        "id": "7Pf1rj2xc0RZ"
      },
      "execution_count": null,
      "outputs": []
    },
    {
      "cell_type": "code",
      "source": [
        "df.duplicated().sum()"
      ],
      "metadata": {
        "id": "fzADktC1c0Vq"
      },
      "execution_count": null,
      "outputs": []
    },
    {
      "cell_type": "code",
      "source": [
        "df = df.drop(columns=['@'])"
      ],
      "metadata": {
        "id": "ECEsfpYKc0aE"
      },
      "execution_count": null,
      "outputs": []
    },
    {
      "cell_type": "code",
      "source": [
        "print(df)"
      ],
      "metadata": {
        "id": "5HgbTLCmc0eh"
      },
      "execution_count": null,
      "outputs": []
    },
    {
      "cell_type": "code",
      "source": [
        "df[\"Rating\"].value_counts()"
      ],
      "metadata": {
        "id": "tk_OmBZPc0jG"
      },
      "execution_count": null,
      "outputs": []
    },
    {
      "cell_type": "code",
      "source": [
        "df.plot(kind = \"box\")"
      ],
      "metadata": {
        "id": "PBl3WRIPc0k5"
      },
      "execution_count": null,
      "outputs": []
    },
    {
      "cell_type": "code",
      "source": [
        "plt.figure(figsize=(8, 5))\n",
        "sns.countplot(x=df[\"Rating\"], palette=\"viridis\")\n",
        "plt.title(\"Distribution of Ratings\")\n",
        "plt.xlabel(\"Rating\")\n",
        "plt.ylabel(\"Count\")\n",
        "plt.show()"
      ],
      "metadata": {
        "id": "lKm6c2Vod8gK"
      },
      "execution_count": null,
      "outputs": []
    },
    {
      "cell_type": "code",
      "source": [
        "avg_Rating = df['Rating'].mean()\n",
        "positive_Rating = len(df[df['Rating'] >= 4]) / len(df) * 100\n",
        "neutral_Rating= len(df[(df['Rating'] > 2) & (df['Rating'] < 4)]) / len(df) * 100\n",
        "negative_Rating = len(df[df['Rating'] <= 2]) / len(df) * 100\n",
        "\n",
        "\n",
        "print(\"\\nKey Insights:\")\n",
        "print(f\"1. Average Rating: {avg_Rating:.2f}/5\")\n",
        "print(f\"2. Positive Rating (4-5 stars): {positive_Rating:.1f}%\")\n",
        "print(f\"3. neutral_Rating (Rating>2 & Rating< 4 ): {neutral_Rating :.1f}%\")\n",
        "print(f\"4. Negative_Rating (1-2 stars): {negative_Rating:.1f}%\")"
      ],
      "metadata": {
        "id": "LYZMzZ1td8nJ"
      },
      "execution_count": null,
      "outputs": []
    },
    {
      "cell_type": "code",
      "source": [
        "df['char_count'] = df['Review'].apply(len)"
      ],
      "metadata": {
        "id": "uFOS9XIDd8wF"
      },
      "execution_count": null,
      "outputs": []
    },
    {
      "cell_type": "code",
      "source": [
        "df"
      ],
      "metadata": {
        "id": "mA_GC9yud8yD"
      },
      "execution_count": null,
      "outputs": []
    },
    {
      "cell_type": "code",
      "source": [
        "df['word_count'] = df['Review'].apply(lambda x: len(str(x).split()))"
      ],
      "metadata": {
        "id": "RiTlbTMCd8z-"
      },
      "execution_count": null,
      "outputs": []
    },
    {
      "cell_type": "code",
      "source": [
        "df"
      ],
      "metadata": {
        "id": "f40XA_26d81v"
      },
      "execution_count": null,
      "outputs": []
    },
    {
      "cell_type": "code",
      "source": [
        "import nltk"
      ],
      "metadata": {
        "id": "AYWR6Vi8d87h"
      },
      "execution_count": null,
      "outputs": []
    },
    {
      "cell_type": "code",
      "source": [
        "nltk.download('punkt')"
      ],
      "metadata": {
        "id": "tnahs57Vd9Bv"
      },
      "execution_count": null,
      "outputs": []
    },
    {
      "cell_type": "code",
      "source": [
        "nltk.download('punkt_tab')\n",
        "\n",
        "# Now you can use sent_tokenize\n",
        "df['sent_count'] = df['Review'].apply(lambda x: len(nltk.sent_tokenize(str(x))))"
      ],
      "metadata": {
        "id": "FTuluoPwd9D6"
      },
      "execution_count": null,
      "outputs": []
    },
    {
      "cell_type": "code",
      "source": [
        "df"
      ],
      "metadata": {
        "id": "IjBuEbmTelTo"
      },
      "execution_count": null,
      "outputs": []
    },
    {
      "cell_type": "code",
      "source": [
        "df[df['Rating']==4]['char_count'].mean()"
      ],
      "metadata": {
        "id": "U1DCz0qlelV-"
      },
      "execution_count": null,
      "outputs": []
    },
    {
      "cell_type": "code",
      "source": [
        "df[df['Rating']==1]['char_count'].mean()"
      ],
      "metadata": {
        "id": "t8RCxUI9elbd"
      },
      "execution_count": null,
      "outputs": []
    },
    {
      "cell_type": "code",
      "source": [
        "import re"
      ],
      "metadata": {
        "id": "mRBt64e5eldy"
      },
      "execution_count": null,
      "outputs": []
    },
    {
      "cell_type": "code",
      "source": [
        "df['Review'][1]"
      ],
      "metadata": {
        "id": "7B2rCflUelg_"
      },
      "execution_count": null,
      "outputs": []
    },
    {
      "cell_type": "code",
      "source": [
        "review =re.sub('[^a-zA-Z]',' ',df['Review'][1])"
      ],
      "metadata": {
        "id": "cqaeeltrelna"
      },
      "execution_count": null,
      "outputs": []
    },
    {
      "cell_type": "code",
      "source": [
        "review"
      ],
      "metadata": {
        "id": "Lb6-dNvRelqE"
      },
      "execution_count": null,
      "outputs": []
    },
    {
      "cell_type": "code",
      "source": [
        "review = review.lower()"
      ],
      "metadata": {
        "id": "qjoNkq9geltU"
      },
      "execution_count": null,
      "outputs": []
    },
    {
      "cell_type": "code",
      "source": [
        "review"
      ],
      "metadata": {
        "id": "7owSgfGBfhDo"
      },
      "execution_count": null,
      "outputs": []
    },
    {
      "cell_type": "code",
      "source": [
        "from nltk.corpus import stopwords"
      ],
      "metadata": {
        "id": "YFwvV_1YfhGY"
      },
      "execution_count": null,
      "outputs": []
    },
    {
      "cell_type": "code",
      "source": [
        "import nltk\n",
        "nltk.download('stopwords')\n",
        "\n",
        "from nltk.corpus import stopwords\n",
        "all_stopwords = stopwords.words('english')"
      ],
      "metadata": {
        "id": "d0YGpxlBelvY"
      },
      "execution_count": null,
      "outputs": []
    },
    {
      "cell_type": "code",
      "source": [
        "print(all_stopwords)"
      ],
      "metadata": {
        "id": "tv5bqhCOf32M"
      },
      "execution_count": null,
      "outputs": []
    },
    {
      "cell_type": "code",
      "source": [
        "#review_string = \" \".join(review) # Convert the list 'review' back to a string\n",
        "review = [word for word in review if word not in set(all_stopwords)] # Apply split() on the string"
      ],
      "metadata": {
        "id": "NgD1TJh9f34p"
      },
      "execution_count": null,
      "outputs": []
    },
    {
      "cell_type": "code",
      "source": [
        "print(review)"
      ],
      "metadata": {
        "id": "hv167QKxf4HU"
      },
      "execution_count": null,
      "outputs": []
    },
    {
      "cell_type": "code",
      "source": [
        "from nltk.stem.porter import PorterStemmer"
      ],
      "metadata": {
        "id": "3G5qGXZ9f4Jo"
      },
      "execution_count": null,
      "outputs": []
    },
    {
      "cell_type": "code",
      "source": [
        "ps=PorterStemmer()"
      ],
      "metadata": {
        "id": "TSWA4XuHf4Wd"
      },
      "execution_count": null,
      "outputs": []
    },
    {
      "cell_type": "code",
      "source": [
        "review = [ps.stem(word) for word in review]"
      ],
      "metadata": {
        "id": "cpL11CiTf4cx"
      },
      "execution_count": null,
      "outputs": []
    },
    {
      "cell_type": "code",
      "source": [
        "review = \" \".join(review)"
      ],
      "metadata": {
        "id": "JIxG6ljtg3jk"
      },
      "execution_count": null,
      "outputs": []
    },
    {
      "cell_type": "code",
      "source": [
        "review"
      ],
      "metadata": {
        "id": "zoPSP6PCg3uJ"
      },
      "execution_count": null,
      "outputs": []
    },
    {
      "cell_type": "code",
      "source": [
        "import re\n",
        "custom_stopwords={ 'a', 'about', 'above', 'after', 'again', 'against', 'ain', 'all', 'am', 'an', 'and', 'any', 'are', 'aren', \"aren't\", 'as', 'at', 'be', 'because', 'been', 'before', 'being', 'below', 'between', 'both', 'but', 'by', 'can', 'couldn', \"couldn't\", 'd', 'did', 'didn', \"didn't\", 'do', 'does', 'doesn', \"doesn't\", 'doing', 'don', \"don't\", 'down', 'during', 'each', 'few', 'for', 'from', 'further', 'had', 'hadn', \"hadn't\", 'has', 'hasn', \"hasn't\", 'have', 'haven', \"haven't\", 'having', 'he', \"he'd\", \"he'll\", 'her', 'here', 'hers', 'herself', \"he's\", 'him', 'himself', 'his', 'how', 'i', \"i'd\", 'if', \"i'll\", \"i'm\", 'in', 'into', 'is', 'isn', \"isn't\", 'it', \"it'd\", \"it'll\", \"it's\", 'its', 'itself', \"i've\", 'just', 'll', 'm', 'ma', 'me', 'mightn', \"mightn't\", 'more', 'most', 'mustn', \"mustn't\", 'my', 'myself', 'needn', \"needn't\", 'no', 'nor', 'not', 'now', 'o', 'of', 'off', 'on', 'once', 'only', 'or', 'other', 'our', 'ours', 'ourselves', 'out', 'over', 'own', 're', 's', 'same', 'shan', \"shan't\", 'she', \"she'd\", \"she'll\", \"she's\", 'should', 'shouldn', \"shouldn't\", \"should've\", 'so', 'some', 'such', 't', 'than', 'that', \"that'll\", 'the', 'their', 'theirs', 'them', 'themselves', 'then', 'there', 'these', 'they', \"they'd\", \"they'll\", \"they're\", \"they've\", 'this', 'those', 'through', 'to', 'too', 'under', 'until', 'up', 've', 'very', 'was', 'wasn', \"wasn't\", 'we', \"we'd\", \"we'll\", \"we're\", 'were', 'weren', \"weren't\", \"we've\", 'what', 'when', 'where', 'which', 'while', 'who', 'whom', 'why', 'will', 'with', 'won', \"won't\", 'wouldn', \"wouldn't\", 'y', 'you', \"you'd\", \"you'll\", 'your', \"you're\", 'yours', 'yourself', 'yourselves', \"you've\"}\n",
        "corpus = []\n",
        "ps=PorterStemmer()\n",
        "stop_words = set(stopwords.words(\"english\")) - custom_stopwords\n",
        "for i in range(0,len(df)):\n",
        "   review = re.sub('[^a-zA-Z]',' ',df['Review'][i])\n",
        "   review = review.lower()\n",
        "   review = review.split()\n",
        "   review = [ps.stem(word) for word in review if word not in set(stop_words)]\n",
        "   review = \" \".join(review)\n",
        "   corpus.append(review)"
      ],
      "metadata": {
        "id": "ylSay8zWg3wa"
      },
      "execution_count": null,
      "outputs": []
    },
    {
      "cell_type": "code",
      "source": [
        "df['processed_review'] = corpus"
      ],
      "metadata": {
        "id": "UBVgaC_Gg33-"
      },
      "execution_count": null,
      "outputs": []
    },
    {
      "cell_type": "code",
      "source": [
        "df.head()"
      ],
      "metadata": {
        "id": "n97H0eihg36j"
      },
      "execution_count": null,
      "outputs": []
    },
    {
      "cell_type": "code",
      "source": [
        "from wordcloud import WordCloud"
      ],
      "metadata": {
        "id": "337F2yh5g3-m"
      },
      "execution_count": null,
      "outputs": []
    },
    {
      "cell_type": "code",
      "source": [
        "wc = WordCloud(width = 500 , height = 500,min_font_size=8,background_color='white')"
      ],
      "metadata": {
        "id": "kFyZMP3-f4fX"
      },
      "execution_count": null,
      "outputs": []
    },
    {
      "cell_type": "code",
      "source": [
        "pos = wc.generate(df[df['Rating'] == 2]['processed_review'].str.cat(sep=\" \"))"
      ],
      "metadata": {
        "id": "-UatijZAhyKi"
      },
      "execution_count": null,
      "outputs": []
    },
    {
      "cell_type": "code",
      "source": [
        "plt.figure(figsize=(10,10))\n",
        "plt.imshow(pos)\n",
        "\n"
      ],
      "metadata": {
        "id": "5VTI7c6LhyQR"
      },
      "execution_count": null,
      "outputs": []
    },
    {
      "cell_type": "code",
      "source": [
        "from sklearn.feature_extraction.text import CountVectorizer"
      ],
      "metadata": {
        "id": "cYPXFVlOhyWj"
      },
      "execution_count": null,
      "outputs": []
    },
    {
      "cell_type": "code",
      "source": [
        "cv = CountVectorizer(max_features=1500)"
      ],
      "metadata": {
        "id": "sIo4N5hShyZQ"
      },
      "execution_count": null,
      "outputs": []
    },
    {
      "cell_type": "code",
      "source": [
        "df[\"Sentiment\"] = np.where(df[\"Rating\"] >= 4, \"Positive\", \"Negative\")"
      ],
      "metadata": {
        "id": "hy0Q51dNhyc0"
      },
      "execution_count": null,
      "outputs": []
    },
    {
      "cell_type": "code",
      "source": [
        "df.head()"
      ],
      "metadata": {
        "id": "FTTti50Chyjf"
      },
      "execution_count": null,
      "outputs": []
    },
    {
      "cell_type": "code",
      "source": [
        "from sklearn.feature_extraction.text import TfidfVectorizer\n",
        "\n",
        "# Initialize TF-IDF Vectorizer\n",
        "vectorizer = TfidfVectorizer(max_features=5000)  # Limit to 5000 most frequent words\n",
        "\n",
        "# Transform text data to TF-IDF features\n",
        "X = vectorizer.fit_transform(df['Review'])\n",
        "\n",
        "# Convert Sentiment to numeric labels (0 = Negative, 1 = Positive)\n",
        "y = np.where(df[\"Sentiment\"] == \"Positive\", 1, 0)\n",
        "\n",
        "# Check shape\n",
        "print(f\"Feature matrix shape: {X.shape}\")\n",
        "\n",
        "\n"
      ],
      "metadata": {
        "id": "prLTGHJrhymC"
      },
      "execution_count": null,
      "outputs": []
    },
    {
      "cell_type": "code",
      "source": [
        "from sklearn.model_selection import train_test_split"
      ],
      "metadata": {
        "id": "FuZleh4_hyoT"
      },
      "execution_count": null,
      "outputs": []
    },
    {
      "cell_type": "code",
      "source": [
        "print(df.columns)"
      ],
      "metadata": {
        "id": "bQ8wNGOJhyrA"
      },
      "execution_count": null,
      "outputs": []
    },
    {
      "cell_type": "code",
      "source": [
        "X_train,X_test,y_train,y_test = train_test_split(X,y,test_size=0.20,random_state=42)"
      ],
      "metadata": {
        "id": "KDGaUmKqhyto"
      },
      "execution_count": null,
      "outputs": []
    },
    {
      "cell_type": "code",
      "source": [
        "X_train.shape,y_train.shape,X_test.shape,y_test.shape"
      ],
      "metadata": {
        "id": "7FpNZvoJhyww"
      },
      "execution_count": null,
      "outputs": []
    },
    {
      "cell_type": "code",
      "source": [
        "from sklearn.linear_model import LogisticRegression\n",
        "model2 = LogisticRegression()\n",
        "model2.fit(X_train, y_train)"
      ],
      "metadata": {
        "id": "OVzAYs7ghyzV"
      },
      "execution_count": null,
      "outputs": []
    },
    {
      "cell_type": "code",
      "source": [
        "y_pred = model2.predict(X_test)"
      ],
      "metadata": {
        "id": "uplf2sFWhy25"
      },
      "execution_count": null,
      "outputs": []
    },
    {
      "cell_type": "code",
      "source": [
        "from sklearn.metrics import accuracy_score\n",
        "#Calculate accuracy\n",
        "accuracy = accuracy_score(y_test, y_pred)\n",
        "print(f\"Model Accuracy: {accuracy * 100:.2f}%\")"
      ],
      "metadata": {
        "id": "G5avwgXwhy5g"
      },
      "execution_count": null,
      "outputs": []
    },
    {
      "cell_type": "code",
      "source": [
        "from sklearn.naive_bayes import MultinomialNB\n",
        "model3 = MultinomialNB()\n",
        "model3.fit(X_train, y_train)"
      ],
      "metadata": {
        "id": "WGtQVp0nhy85"
      },
      "execution_count": null,
      "outputs": []
    },
    {
      "cell_type": "code",
      "source": [
        "y_pred = model3.predict(X_test)"
      ],
      "metadata": {
        "id": "u0VlgZcqhy_Q"
      },
      "execution_count": null,
      "outputs": []
    },
    {
      "cell_type": "code",
      "source": [
        "#Calculate accuracy\n",
        "accuracy = accuracy_score(y_test, y_pred)\n",
        "print(f\"Model Accuracy: {accuracy * 100:.2f}%\")"
      ],
      "metadata": {
        "id": "jxju6YLhhzDa"
      },
      "execution_count": null,
      "outputs": []
    },
    {
      "cell_type": "code",
      "source": [
        "from sklearn.neighbors import KNeighborsClassifier\n",
        "model4= KNeighborsClassifier(n_neighbors=5)\n",
        "model4.fit(X_train, y_train)"
      ],
      "metadata": {
        "id": "w9YeRv2GhzGi"
      },
      "execution_count": null,
      "outputs": []
    },
    {
      "cell_type": "code",
      "source": [
        "y_pred = model4.predict(X_test)"
      ],
      "metadata": {
        "id": "MX6x_1ePhzJa"
      },
      "execution_count": null,
      "outputs": []
    },
    {
      "cell_type": "code",
      "source": [
        "#Calculate accuracy\n",
        "accuracy = accuracy_score(y_test, y_pred)\n",
        "print(f\"Model Accuracy: {accuracy * 100:.2f}%\")"
      ],
      "metadata": {
        "id": "xLkKjYV-l7Ju"
      },
      "execution_count": null,
      "outputs": []
    },
    {
      "cell_type": "code",
      "source": [
        "from sklearn.naive_bayes import GaussianNB\n",
        "# Convert sparse matrix to dense (GaussianNB requires dense input)\n",
        "X_train_dense = X_train.toarray()\n",
        "X_test_dense = X_test.toarray()\n",
        "\n",
        "# Initialize and train Gaussian Naive Bayes model\n",
        "model5 = GaussianNB()\n",
        "model5.fit(X_train_dense, y_train)"
      ],
      "metadata": {
        "id": "EOJI-Bp5l7RD"
      },
      "execution_count": null,
      "outputs": []
    },
    {
      "cell_type": "code",
      "source": [
        "y_pred_gnb = model5.predict(X_test_dense)"
      ],
      "metadata": {
        "id": "_O8TmJTcl7Tt"
      },
      "execution_count": null,
      "outputs": []
    },
    {
      "cell_type": "code",
      "source": [
        "#Calculate accuracy\n",
        "accuracy_gnb = accuracy_score(y_test, y_pred_gnb)\n",
        "print(f\" model Accuracy: {accuracy_gnb * 100:.2f}%\")"
      ],
      "metadata": {
        "id": "obryg4Pxl7c1"
      },
      "execution_count": null,
      "outputs": []
    },
    {
      "cell_type": "code",
      "source": [
        "import pickle\n",
        "pickle.dump(model2,open('lr_model2.pkl','wb'))\n",
        "pickle.dump(df, open('dataset.pkl','wb'))"
      ],
      "metadata": {
        "id": "DMaeN6t_l7jM"
      },
      "execution_count": null,
      "outputs": []
    },
    {
      "cell_type": "code",
      "source": [
        "import ipywidgets as widgets\n",
        "from IPython.display import display, clear_output\n",
        "\n",
        "# ... (Your existing code) ...\n",
        "\n",
        "def predict_rating(review_text):\n",
        "    # Preprocess the input review\n",
        "    review = re.sub('[^a-zA-Z]', ' ', review_text)\n",
        "    review = review.lower()\n",
        "    review = review.split()\n",
        "    review = [ps.stem(word) for word in review if word not in set(stop_words)]\n",
        "    review = \" \".join(review)\n",
        "\n",
        "    # Vectorize the review\n",
        "    review_vector = cv.transform([review]).toarray()\n",
        "\n",
        "    # Predict the rating using the logistic regression model (you can change this to GaussianNB if needed)\n",
        "    predicted_rating = lr.predict(review_vector)[0]\n",
        "\n",
        "    if predicted_rating >=4 :\n",
        "        result = \"Good Hotel\"\n",
        "    elif predicted_rating >2 and predicted_rating < 4:\n",
        "        result = \"Neutral\"\n",
        "    else:\n",
        "      result = \"Bad Hotel\"\n",
        "\n",
        "    return predicted_rating, result\n",
        "\n",
        "\n",
        "# Create input widgets\n",
        "review_input = widgets.Textarea(\n",
        "    placeholder='Enter your hotel review here',\n",
        "    description='Review:',\n",
        "    layout=widgets.Layout(width='500px', height='100px')\n",
        ")\n",
        "\n",
        "predict_button = widgets.Button(description='Predict Rating')\n",
        "output = widgets.Output()\n",
        "\n",
        "\n",
        "def on_button_clicked(b):\n",
        "    with output:\n",
        "        clear_output()  # Clear previous output\n",
        "        review = review_input.value\n",
        "        if review:\n",
        "            predicted_rating, result = predict_rating(review)\n",
        "            print(f\"Predicted Rating: {predicted_rating}\")\n",
        "            print(f\"Result: {result}\")\n",
        "        else:\n",
        "            print(\"Please enter a review.\")\n",
        "\n",
        "predict_button.on_click(on_button_clicked)\n",
        "\n",
        "\n",
        "# Display the widgets\n",
        "display(review_input, predict_button, output)\n"
      ],
      "metadata": {
        "id": "ZuoxGQE5l7l_"
      },
      "execution_count": null,
      "outputs": []
    }
  ]
}